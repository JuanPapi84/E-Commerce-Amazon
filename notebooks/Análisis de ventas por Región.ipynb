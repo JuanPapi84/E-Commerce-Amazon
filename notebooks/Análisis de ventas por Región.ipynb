{
 "cells": [
  {
   "cell_type": "markdown",
   "id": "57833ee7",
   "metadata": {},
   "source": [
    "# Carga de Librerias"
   ]
  },
  {
   "cell_type": "code",
   "execution_count": 1,
   "id": "8075622a",
   "metadata": {},
   "outputs": [],
   "source": [
    "import pandas as pd\n",
    "import numpy as np\n",
    "import pandas as pd\n",
    "import seaborn as sns\n",
    "import matplotlib.pyplot as plt"
   ]
  },
  {
   "cell_type": "markdown",
   "id": "6b14ab5e",
   "metadata": {},
   "source": [
    "# DataFrames"
   ]
  },
  {
   "cell_type": "code",
   "execution_count": 2,
   "id": "15689c20",
   "metadata": {},
   "outputs": [],
   "source": [
    "df_or = pd.read_csv('Amazon2.csv')"
   ]
  },
  {
   "cell_type": "code",
   "execution_count": 3,
   "id": "bd53566a",
   "metadata": {},
   "outputs": [],
   "source": [
    "df_ca = pd.read_csv('amz_ca_processed_data.csv')"
   ]
  },
  {
   "cell_type": "code",
   "execution_count": 4,
   "id": "501cfbf6",
   "metadata": {},
   "outputs": [],
   "source": [
    "df_uk = pd.read_csv('amz_uk_processed_data.csv')"
   ]
  },
  {
   "cell_type": "code",
   "execution_count": 5,
   "id": "d4279dfd",
   "metadata": {},
   "outputs": [],
   "source": [
    "df_us = pd.read_csv('amz_us_processed_data.csv')"
   ]
  },
  {
   "cell_type": "markdown",
   "id": "40dbb7e9",
   "metadata": {},
   "source": [
    "Me fijo que todos los dataframes se hayan cargado correctamente y veo si tienen ausentes en sus columnas"
   ]
  },
  {
   "cell_type": "code",
   "execution_count": 6,
   "id": "d93e9402",
   "metadata": {},
   "outputs": [
    {
     "name": "stdout",
     "output_type": "stream",
     "text": [
      "<class 'pandas.core.frame.DataFrame'>\n",
      "RangeIndex: 2165926 entries, 0 to 2165925\n",
      "Data columns (total 11 columns):\n",
      " #   Column             Dtype  \n",
      "---  ------             -----  \n",
      " 0   asin               object \n",
      " 1   title              object \n",
      " 2   imgUrl             object \n",
      " 3   productURL         object \n",
      " 4   stars              float64\n",
      " 5   reviews            int64  \n",
      " 6   price              float64\n",
      " 7   listPrice          float64\n",
      " 8   categoryName       object \n",
      " 9   isBestSeller       bool   \n",
      " 10  boughtInLastMonth  int64  \n",
      "dtypes: bool(1), float64(3), int64(2), object(5)\n",
      "memory usage: 167.3+ MB\n"
     ]
    }
   ],
   "source": [
    "df_ca.info()"
   ]
  },
  {
   "cell_type": "code",
   "execution_count": 7,
   "id": "2015639d",
   "metadata": {},
   "outputs": [
    {
     "name": "stdout",
     "output_type": "stream",
     "text": [
      "<class 'pandas.core.frame.DataFrame'>\n",
      "RangeIndex: 1426337 entries, 0 to 1426336\n",
      "Data columns (total 11 columns):\n",
      " #   Column             Non-Null Count    Dtype  \n",
      "---  ------             --------------    -----  \n",
      " 0   asin               1426337 non-null  object \n",
      " 1   title              1426336 non-null  object \n",
      " 2   imgUrl             1426337 non-null  object \n",
      " 3   productURL         1426337 non-null  object \n",
      " 4   stars              1426337 non-null  float64\n",
      " 5   reviews            1426337 non-null  int64  \n",
      " 6   price              1426337 non-null  float64\n",
      " 7   listPrice          1426337 non-null  float64\n",
      " 8   category_id        1426337 non-null  int64  \n",
      " 9   isBestSeller       1426337 non-null  bool   \n",
      " 10  boughtInLastMonth  1426337 non-null  int64  \n",
      "dtypes: bool(1), float64(3), int64(3), object(4)\n",
      "memory usage: 110.2+ MB\n"
     ]
    }
   ],
   "source": [
    "df_us.info()"
   ]
  },
  {
   "cell_type": "code",
   "execution_count": 8,
   "id": "6e96f329",
   "metadata": {},
   "outputs": [
    {
     "name": "stdout",
     "output_type": "stream",
     "text": [
      "<class 'pandas.core.frame.DataFrame'>\n",
      "RangeIndex: 2222742 entries, 0 to 2222741\n",
      "Data columns (total 10 columns):\n",
      " #   Column             Dtype  \n",
      "---  ------             -----  \n",
      " 0   asin               object \n",
      " 1   title              object \n",
      " 2   imgUrl             object \n",
      " 3   productURL         object \n",
      " 4   stars              float64\n",
      " 5   reviews            int64  \n",
      " 6   price              float64\n",
      " 7   isBestSeller       bool   \n",
      " 8   boughtInLastMonth  int64  \n",
      " 9   categoryName       object \n",
      "dtypes: bool(1), float64(2), int64(2), object(5)\n",
      "memory usage: 154.7+ MB\n"
     ]
    }
   ],
   "source": [
    "df_uk.info()"
   ]
  },
  {
   "cell_type": "code",
   "execution_count": 9,
   "id": "d2fe2979",
   "metadata": {},
   "outputs": [
    {
     "name": "stdout",
     "output_type": "stream",
     "text": [
      "<class 'pandas.core.frame.DataFrame'>\n",
      "RangeIndex: 533769 entries, 0 to 533768\n",
      "Data columns (total 13 columns):\n",
      " #   Column               Non-Null Count   Dtype  \n",
      "---  ------               --------------   -----  \n",
      " 0   index                533769 non-null  int64  \n",
      " 1   name                 533769 non-null  object \n",
      " 2   main_category        533769 non-null  object \n",
      " 3   sub_category         533769 non-null  object \n",
      " 4   image                533769 non-null  object \n",
      " 5   link                 533769 non-null  object \n",
      " 6   ratings              533769 non-null  float64\n",
      " 7   no_of_ratings        533769 non-null  float64\n",
      " 8   discount_price       533769 non-null  float64\n",
      " 9   actual_price         533769 non-null  float64\n",
      " 10  discount_price_usd   533769 non-null  float64\n",
      " 11  actual_price_usd     533769 non-null  float64\n",
      " 12  discount_percentage  533769 non-null  float64\n",
      "dtypes: float64(7), int64(1), object(5)\n",
      "memory usage: 52.9+ MB\n"
     ]
    }
   ],
   "source": [
    "df_or.info()"
   ]
  },
  {
   "cell_type": "markdown",
   "id": "676cf9ba",
   "metadata": {},
   "source": [
    "Ahora que se que no tiene ausentes elimino las columnas `actual_price` y `discount_price` del dataframe original ya que esta ya cuenta con dichas columnas en dolares."
   ]
  },
  {
   "cell_type": "code",
   "execution_count": 10,
   "id": "aef21529",
   "metadata": {},
   "outputs": [],
   "source": [
    "# Eliminar las columnas 'actual_price' y 'discount_price' del DataFrame df_or\n",
    "df_or = df_or.drop(columns=['actual_price', 'discount_price'])"
   ]
  },
  {
   "cell_type": "markdown",
   "id": "bae6ffbb",
   "metadata": {},
   "source": [
    "Elimino columnas que no me sirven `asin e index`"
   ]
  },
  {
   "cell_type": "code",
   "execution_count": 11,
   "id": "8ca5b3dc",
   "metadata": {},
   "outputs": [],
   "source": [
    "# Eliminar las columnas 'asin' y 'index'\n",
    "df_ca.drop(columns=['asin'], inplace=True)\n",
    "df_us.drop(columns=['asin'], inplace=True)\n",
    "df_uk.drop(columns=['asin'], inplace=True)\n",
    "df_or.drop(columns=['index'], inplace=True)"
   ]
  },
  {
   "cell_type": "markdown",
   "id": "dfa748f5",
   "metadata": {},
   "source": [
    "Renombro columnas para que todas tengan la misma información"
   ]
  },
  {
   "cell_type": "code",
   "execution_count": 12,
   "id": "ec2bd6a5",
   "metadata": {},
   "outputs": [],
   "source": [
    "# Renombrar columnas para alinearlas\n",
    "df_ca.rename(columns={'listPrice': 'actual_price', 'price': 'discount_price'}, inplace=True)\n",
    "df_us.rename(columns={'listPrice': 'actual_price', 'price': 'discount_price'}, inplace=True)\n",
    "df_uk.rename(columns={'price': 'actual_price'}, inplace=True)  \n",
    "df_or.rename(columns={'name': 'title'}, inplace=True)"
   ]
  },
  {
   "cell_type": "code",
   "execution_count": 13,
   "id": "8aaa91b0",
   "metadata": {},
   "outputs": [
    {
     "data": {
      "text/html": [
       "<div>\n",
       "<style scoped>\n",
       "    .dataframe tbody tr th:only-of-type {\n",
       "        vertical-align: middle;\n",
       "    }\n",
       "\n",
       "    .dataframe tbody tr th {\n",
       "        vertical-align: top;\n",
       "    }\n",
       "\n",
       "    .dataframe thead th {\n",
       "        text-align: right;\n",
       "    }\n",
       "</style>\n",
       "<table border=\"1\" class=\"dataframe\">\n",
       "  <thead>\n",
       "    <tr style=\"text-align: right;\">\n",
       "      <th></th>\n",
       "      <th>title</th>\n",
       "      <th>imgUrl</th>\n",
       "      <th>productURL</th>\n",
       "      <th>stars</th>\n",
       "      <th>reviews</th>\n",
       "      <th>actual_price</th>\n",
       "      <th>isBestSeller</th>\n",
       "      <th>boughtInLastMonth</th>\n",
       "      <th>categoryName</th>\n",
       "    </tr>\n",
       "  </thead>\n",
       "  <tbody>\n",
       "    <tr>\n",
       "      <th>0</th>\n",
       "      <td>Echo Dot (5th generation, 2022 release) | Big ...</td>\n",
       "      <td>https://m.media-amazon.com/images/I/71C3lbbeLs...</td>\n",
       "      <td>https://www.amazon.co.uk/dp/B09B96TG33</td>\n",
       "      <td>4.7</td>\n",
       "      <td>15308</td>\n",
       "      <td>21.99</td>\n",
       "      <td>False</td>\n",
       "      <td>0</td>\n",
       "      <td>Hi-Fi Speakers</td>\n",
       "    </tr>\n",
       "    <tr>\n",
       "      <th>1</th>\n",
       "      <td>Anker Soundcore mini, Super-Portable Bluetooth...</td>\n",
       "      <td>https://m.media-amazon.com/images/I/61c5rSxwP0...</td>\n",
       "      <td>https://www.amazon.co.uk/dp/B01HTH3C8S</td>\n",
       "      <td>4.7</td>\n",
       "      <td>98099</td>\n",
       "      <td>23.99</td>\n",
       "      <td>True</td>\n",
       "      <td>0</td>\n",
       "      <td>Hi-Fi Speakers</td>\n",
       "    </tr>\n",
       "    <tr>\n",
       "      <th>2</th>\n",
       "      <td>Echo Dot (5th generation, 2022 release) | Big ...</td>\n",
       "      <td>https://m.media-amazon.com/images/I/61j3SEUjMJ...</td>\n",
       "      <td>https://www.amazon.co.uk/dp/B09B8YWXDF</td>\n",
       "      <td>4.7</td>\n",
       "      <td>15308</td>\n",
       "      <td>21.99</td>\n",
       "      <td>False</td>\n",
       "      <td>0</td>\n",
       "      <td>Hi-Fi Speakers</td>\n",
       "    </tr>\n",
       "    <tr>\n",
       "      <th>3</th>\n",
       "      <td>Echo Dot with clock (5th generation, 2022 rele...</td>\n",
       "      <td>https://m.media-amazon.com/images/I/71yf6yTNWS...</td>\n",
       "      <td>https://www.amazon.co.uk/dp/B09B8T5VGV</td>\n",
       "      <td>4.7</td>\n",
       "      <td>7205</td>\n",
       "      <td>31.99</td>\n",
       "      <td>False</td>\n",
       "      <td>0</td>\n",
       "      <td>Hi-Fi Speakers</td>\n",
       "    </tr>\n",
       "    <tr>\n",
       "      <th>4</th>\n",
       "      <td>Introducing Echo Pop | Full sound compact Wi-F...</td>\n",
       "      <td>https://m.media-amazon.com/images/I/613dEoF9-r...</td>\n",
       "      <td>https://www.amazon.co.uk/dp/B09WX6QD65</td>\n",
       "      <td>4.6</td>\n",
       "      <td>1881</td>\n",
       "      <td>17.99</td>\n",
       "      <td>False</td>\n",
       "      <td>0</td>\n",
       "      <td>Hi-Fi Speakers</td>\n",
       "    </tr>\n",
       "  </tbody>\n",
       "</table>\n",
       "</div>"
      ],
      "text/plain": [
       "                                               title  \\\n",
       "0  Echo Dot (5th generation, 2022 release) | Big ...   \n",
       "1  Anker Soundcore mini, Super-Portable Bluetooth...   \n",
       "2  Echo Dot (5th generation, 2022 release) | Big ...   \n",
       "3  Echo Dot with clock (5th generation, 2022 rele...   \n",
       "4  Introducing Echo Pop | Full sound compact Wi-F...   \n",
       "\n",
       "                                              imgUrl  \\\n",
       "0  https://m.media-amazon.com/images/I/71C3lbbeLs...   \n",
       "1  https://m.media-amazon.com/images/I/61c5rSxwP0...   \n",
       "2  https://m.media-amazon.com/images/I/61j3SEUjMJ...   \n",
       "3  https://m.media-amazon.com/images/I/71yf6yTNWS...   \n",
       "4  https://m.media-amazon.com/images/I/613dEoF9-r...   \n",
       "\n",
       "                               productURL  stars  reviews  actual_price  \\\n",
       "0  https://www.amazon.co.uk/dp/B09B96TG33    4.7    15308         21.99   \n",
       "1  https://www.amazon.co.uk/dp/B01HTH3C8S    4.7    98099         23.99   \n",
       "2  https://www.amazon.co.uk/dp/B09B8YWXDF    4.7    15308         21.99   \n",
       "3  https://www.amazon.co.uk/dp/B09B8T5VGV    4.7     7205         31.99   \n",
       "4  https://www.amazon.co.uk/dp/B09WX6QD65    4.6     1881         17.99   \n",
       "\n",
       "   isBestSeller  boughtInLastMonth    categoryName  \n",
       "0         False                  0  Hi-Fi Speakers  \n",
       "1          True                  0  Hi-Fi Speakers  \n",
       "2         False                  0  Hi-Fi Speakers  \n",
       "3         False                  0  Hi-Fi Speakers  \n",
       "4         False                  0  Hi-Fi Speakers  "
      ]
     },
     "execution_count": 13,
     "metadata": {},
     "output_type": "execute_result"
    }
   ],
   "source": [
    "df_uk.head(5)"
   ]
  },
  {
   "cell_type": "markdown",
   "id": "a06d37fb",
   "metadata": {},
   "source": [
    "## Tasa de Conversion"
   ]
  },
  {
   "cell_type": "code",
   "execution_count": 14,
   "id": "c012366a",
   "metadata": {},
   "outputs": [],
   "source": [
    "# Tasa de conversión\n",
    "conversion_rates = {'UK': 1.28, 'Canada': 0.73}\n",
    "\n",
    "# Agregando nuevas columnas con precios en dólares a df_uk y df_ca\n",
    "df_uk['actual_price_usd'] = df_uk['actual_price'] * conversion_rates['UK']\n",
    "df_uk['discount_price_usd'] = 0  \n",
    "df_uk['discount_price'] = 0  \n",
    "\n",
    "df_ca['discount_price_usd'] = df_ca['discount_price'] * conversion_rates['Canada']\n",
    "df_ca['actual_price_usd'] = df_ca['actual_price'] * conversion_rates['Canada']\n",
    "\n",
    "# Agregar nueva columna a df_us\n",
    "df_us['discount_price_usd'] = df_us['discount_price']\n",
    "df_us['actual_price_usd'] = df_us['actual_price']"
   ]
  },
  {
   "cell_type": "code",
   "execution_count": 15,
   "id": "bff0d1e0",
   "metadata": {},
   "outputs": [
    {
     "name": "stdout",
     "output_type": "stream",
     "text": [
      "<class 'pandas.core.frame.DataFrame'>\n",
      "RangeIndex: 1426337 entries, 0 to 1426336\n",
      "Data columns (total 12 columns):\n",
      " #   Column              Non-Null Count    Dtype  \n",
      "---  ------              --------------    -----  \n",
      " 0   title               1426336 non-null  object \n",
      " 1   imgUrl              1426337 non-null  object \n",
      " 2   productURL          1426337 non-null  object \n",
      " 3   stars               1426337 non-null  float64\n",
      " 4   reviews             1426337 non-null  int64  \n",
      " 5   discount_price      1426337 non-null  float64\n",
      " 6   actual_price        1426337 non-null  float64\n",
      " 7   category_id         1426337 non-null  int64  \n",
      " 8   isBestSeller        1426337 non-null  bool   \n",
      " 9   boughtInLastMonth   1426337 non-null  int64  \n",
      " 10  discount_price_usd  1426337 non-null  float64\n",
      " 11  actual_price_usd    1426337 non-null  float64\n",
      "dtypes: bool(1), float64(5), int64(3), object(3)\n",
      "memory usage: 121.1+ MB\n"
     ]
    }
   ],
   "source": [
    "df_us.info()"
   ]
  },
  {
   "cell_type": "code",
   "execution_count": 16,
   "id": "b10dae1e",
   "metadata": {},
   "outputs": [
    {
     "name": "stdout",
     "output_type": "stream",
     "text": [
      "   actual_price_usd  discount_price_usd  discount_percentage\n",
      "0            0.0000             34.8137             0.000000\n",
      "1            0.0000              8.0227             0.000000\n",
      "2           20.4327             18.9727             7.145409\n",
      "3           22.6227             16.0527            29.041626\n",
      "4            0.0000             13.8627             0.000000\n",
      "   actual_price_usd  discount_price_usd  discount_percentage\n",
      "0              0.00              139.99             0.000000\n",
      "1            209.99              169.99            19.048526\n",
      "2            429.99              365.49            15.000349\n",
      "3            354.37              291.59            17.715947\n",
      "4            309.99              174.99            43.549792\n",
      "   actual_price_usd  discount_price_usd  discount_percentage\n",
      "0           28.1472                 0.0                100.0\n",
      "1           30.7072                 0.0                100.0\n",
      "2           28.1472                 0.0                100.0\n",
      "3           40.9472                 0.0                100.0\n",
      "4           23.0272                 0.0                100.0\n",
      "   actual_price_usd  discount_price_usd  discount_percentage\n",
      "0            707.88             395.988            44.060010\n",
      "1            911.88             557.880            38.820897\n",
      "2            743.88             413.880            44.361994\n",
      "3            827.88             455.880            44.934048\n",
      "4            813.48             413.880            49.122289\n"
     ]
    }
   ],
   "source": [
    "# Asegurar la existencia de columnas 'actual_price_usd' y 'discount_price_usd' en los DataFrames y realizar la conversión\n",
    "for df in [df_uk, df_ca, df_us, df_or]:\n",
    "    # Asignar tasa de conversión específica\n",
    "    if df is df_uk:\n",
    "        conversion_rate = conversion_rates['UK']\n",
    "        df['actual_price_usd'] = df['actual_price'] * conversion_rate if 'actual_price' in df.columns else np.nan\n",
    "        df['discount_price_usd'] = df['discount_price'] * conversion_rate if 'discount_price' in df.columns else np.nan\n",
    "    elif df is df_ca:\n",
    "        conversion_rate = conversion_rates['Canada']\n",
    "        df['actual_price_usd'] = df['actual_price'] * conversion_rate if 'actual_price' in df.columns else np.nan\n",
    "        df['discount_price_usd'] = df['discount_price'] * conversion_rate if 'discount_price' in df.columns else np.nan\n",
    "    else:\n",
    "        conversion_rate = 1  # Para df_us y df_or (ya están en USD)\n",
    "        df['actual_price_usd'] = df['actual_price_usd'] if 'actual_price_usd' in df.columns else np.nan\n",
    "        df['discount_price_usd'] = df['discount_price_usd'] if 'discount_price_usd' in df.columns else np.nan\n",
    "\n",
    "    # Asegurar que las columnas de precio están en float\n",
    "    df['actual_price_usd'] = df['actual_price_usd'].astype(float)\n",
    "    df['discount_price_usd'] = df['discount_price_usd'].astype(float) if 'discount_price_usd' in df.columns else np.nan\n",
    "\n",
    "    # Calcular el porcentaje de descuento\n",
    "    df['discount_percentage'] = np.where(df['actual_price_usd'] != 0,\n",
    "                                         100 * (df['actual_price_usd'] - df['discount_price_usd']) / df['actual_price_usd'],\n",
    "                                         0)\n",
    "\n",
    "# Verificar los resultados\n",
    "print(df_ca[['actual_price_usd', 'discount_price_usd', 'discount_percentage']].head())\n",
    "print(df_us[['actual_price_usd', 'discount_price_usd', 'discount_percentage']].head())\n",
    "print(df_uk[['actual_price_usd', 'discount_price_usd', 'discount_percentage']].head())\n",
    "print(df_or[['actual_price_usd', 'discount_price_usd', 'discount_percentage']].head())\n",
    "\n"
   ]
  },
  {
   "cell_type": "markdown",
   "id": "f967b6de",
   "metadata": {},
   "source": [
    "## Unificación de los dataframes en uno solo"
   ]
  },
  {
   "cell_type": "markdown",
   "id": "8c43ce25",
   "metadata": {},
   "source": [
    "Primero le agrego la columna `country` para poder identificar el precio de cada país."
   ]
  },
  {
   "cell_type": "code",
   "execution_count": 17,
   "id": "48e980a7",
   "metadata": {},
   "outputs": [],
   "source": [
    "# Unificar datasets en uno solo para comparar\n",
    "df_ca['country'] = 'Canada'\n",
    "df_us['country'] = 'US'\n",
    "df_uk['country'] = 'UK'\n",
    "df_or['country'] = 'India'"
   ]
  },
  {
   "cell_type": "markdown",
   "id": "a55122bf",
   "metadata": {},
   "source": [
    "Luego selecciono las columnas que me interesa análizar."
   ]
  },
  {
   "cell_type": "code",
   "execution_count": 18,
   "id": "be2b31e1",
   "metadata": {},
   "outputs": [],
   "source": [
    "# Seleccionar columnas relevantes\n",
    "common_columns = ['title', 'actual_price_usd', 'discount_percentage', 'discount_price_usd', 'country']\n",
    "df_ca = df_ca[common_columns]\n",
    "df_us = df_us[common_columns]\n",
    "df_uk = df_uk[common_columns]\n",
    "df_or = df_or[common_columns]"
   ]
  },
  {
   "cell_type": "markdown",
   "id": "50015b5c",
   "metadata": {},
   "source": [
    "Cocateno los dataframes en uno solo `df_all`"
   ]
  },
  {
   "cell_type": "code",
   "execution_count": 19,
   "id": "c2db5182",
   "metadata": {},
   "outputs": [
    {
     "data": {
      "text/html": [
       "<div>\n",
       "<style scoped>\n",
       "    .dataframe tbody tr th:only-of-type {\n",
       "        vertical-align: middle;\n",
       "    }\n",
       "\n",
       "    .dataframe tbody tr th {\n",
       "        vertical-align: top;\n",
       "    }\n",
       "\n",
       "    .dataframe thead th {\n",
       "        text-align: right;\n",
       "    }\n",
       "</style>\n",
       "<table border=\"1\" class=\"dataframe\">\n",
       "  <thead>\n",
       "    <tr style=\"text-align: right;\">\n",
       "      <th></th>\n",
       "      <th>title</th>\n",
       "      <th>actual_price_usd</th>\n",
       "      <th>discount_percentage</th>\n",
       "      <th>discount_price_usd</th>\n",
       "      <th>country</th>\n",
       "    </tr>\n",
       "  </thead>\n",
       "  <tbody>\n",
       "    <tr>\n",
       "      <th>0</th>\n",
       "      <td>Green Leaf WW3D Wonder Extension Cord Winder, ...</td>\n",
       "      <td>0.0000</td>\n",
       "      <td>0.000000</td>\n",
       "      <td>34.8137</td>\n",
       "      <td>Canada</td>\n",
       "    </tr>\n",
       "    <tr>\n",
       "      <th>1</th>\n",
       "      <td>8pcs Toilet Seat Bumpers Universal Toilet Repl...</td>\n",
       "      <td>0.0000</td>\n",
       "      <td>0.000000</td>\n",
       "      <td>8.0227</td>\n",
       "      <td>Canada</td>\n",
       "    </tr>\n",
       "    <tr>\n",
       "      <th>2</th>\n",
       "      <td>YaeCCC 19 Pcs Hole Saw Kit 3/4''(19mm)- 6''(15...</td>\n",
       "      <td>20.4327</td>\n",
       "      <td>7.145409</td>\n",
       "      <td>18.9727</td>\n",
       "      <td>Canada</td>\n",
       "    </tr>\n",
       "    <tr>\n",
       "      <th>3</th>\n",
       "      <td>LLPT Butyl Putty Tape White 1 Inch x 33Ft Tigh...</td>\n",
       "      <td>22.6227</td>\n",
       "      <td>29.041626</td>\n",
       "      <td>16.0527</td>\n",
       "      <td>Canada</td>\n",
       "    </tr>\n",
       "    <tr>\n",
       "      <th>4</th>\n",
       "      <td>Lightbeam 16\" Long Stem Deep Fry Thermometer w...</td>\n",
       "      <td>0.0000</td>\n",
       "      <td>0.000000</td>\n",
       "      <td>13.8627</td>\n",
       "      <td>Canada</td>\n",
       "    </tr>\n",
       "  </tbody>\n",
       "</table>\n",
       "</div>"
      ],
      "text/plain": [
       "                                               title  actual_price_usd  \\\n",
       "0  Green Leaf WW3D Wonder Extension Cord Winder, ...            0.0000   \n",
       "1  8pcs Toilet Seat Bumpers Universal Toilet Repl...            0.0000   \n",
       "2  YaeCCC 19 Pcs Hole Saw Kit 3/4''(19mm)- 6''(15...           20.4327   \n",
       "3  LLPT Butyl Putty Tape White 1 Inch x 33Ft Tigh...           22.6227   \n",
       "4  Lightbeam 16\" Long Stem Deep Fry Thermometer w...            0.0000   \n",
       "\n",
       "   discount_percentage  discount_price_usd country  \n",
       "0             0.000000             34.8137  Canada  \n",
       "1             0.000000              8.0227  Canada  \n",
       "2             7.145409             18.9727  Canada  \n",
       "3            29.041626             16.0527  Canada  \n",
       "4             0.000000             13.8627  Canada  "
      ]
     },
     "execution_count": 19,
     "metadata": {},
     "output_type": "execute_result"
    }
   ],
   "source": [
    "# Concatenar todos los DataFrames\n",
    "df_all = pd.concat([df_ca, df_us, df_uk, df_or])\n",
    "\n",
    "# Mostrar los primeros registros del DataFrame unificado\n",
    "df_all.head()"
   ]
  },
  {
   "cell_type": "markdown",
   "id": "74d1326d",
   "metadata": {},
   "source": [
    "# Análisis de precios y descuentos"
   ]
  },
  {
   "cell_type": "code",
   "execution_count": 20,
   "id": "d3fd9ce9",
   "metadata": {},
   "outputs": [
    {
     "name": "stdout",
     "output_type": "stream",
     "text": [
      "Precios promedio por país:\n",
      "country\n",
      "Canada      3.395510\n",
      "India     277.336960\n",
      "UK        120.649439\n",
      "US         12.449160\n",
      "Name: actual_price_usd, dtype: float64\n",
      "\n",
      "Descuentos promedio por país:\n",
      "country\n",
      "Canada     1.305479\n",
      "India     53.377660\n",
      "UK        99.999190\n",
      "US         5.056602\n",
      "Name: discount_percentage, dtype: float64\n"
     ]
    }
   ],
   "source": [
    "# Comparar precios promedio\n",
    "avg_prices = df_all.groupby('country')['actual_price_usd'].mean()\n",
    "\n",
    "# Comparar descuentos promedio\n",
    "avg_discounts = df_all.groupby('country')['discount_percentage'].mean()\n",
    "\n",
    "# Mostrar resultados\n",
    "print(\"Precios promedio por país:\")\n",
    "print(avg_prices)\n",
    "\n",
    "print(\"\\nDescuentos promedio por país:\")\n",
    "print(avg_discounts)\n"
   ]
  },
  {
   "cell_type": "markdown",
   "id": "066867ef",
   "metadata": {},
   "source": [
    "## Filtro para analizar productos comunes en diferentes paises y sus precios"
   ]
  },
  {
   "cell_type": "code",
   "execution_count": 21,
   "id": "78eb1b1a",
   "metadata": {},
   "outputs": [
    {
     "name": "stdout",
     "output_type": "stream",
     "text": [
      "                                                     title country  \\\n",
      "24        Cool Wall Stickers for Schools, Kids Rooms, N...  Canada   \n",
      "25        Cool Wall Stickers for Schools, Kids Rooms, N...      US   \n",
      "57        L-Track Double Stud Tie Down Fitting with O R...  Canada   \n",
      "58        L-Track Double Stud Tie Down Fitting with O R...      US   \n",
      "287      \"Basic\" Curved Stick Front/Back Linear Drop Ea...  Canada   \n",
      "...                                                    ...     ...   \n",
      "5908702  𝟮𝟬𝟮𝟮 𝙉𝙚𝙬 LAUNCH OBD2 Extension Cable Full 16Pi...      US   \n",
      "5908731  𝟮𝟬𝟮𝟯 𝙐𝙥𝙜𝙧𝙖𝙙𝙚𝙙 3316348.900 RV Fridge Circuit Bo...  Canada   \n",
      "5908732  𝟮𝟬𝟮𝟯 𝙐𝙥𝙜𝙧𝙖𝙙𝙚𝙙 3316348.900 RV Fridge Circuit Bo...      US   \n",
      "5908776  📬 United States Postal Mail Truck USPS 1987 Gr...  Canada   \n",
      "5908777  📬 United States Postal Mail Truck USPS 1987 Gr...      US   \n",
      "\n",
      "         discount_price_usd  actual_price_usd  \n",
      "24                  17.5346               0.0  \n",
      "25                  12.9900               0.0  \n",
      "57                  27.7327               0.0  \n",
      "58                  27.9900               0.0  \n",
      "287                 15.4030               0.0  \n",
      "...                     ...               ...  \n",
      "5908702             11.9900               0.0  \n",
      "5908731            102.5139               0.0  \n",
      "5908732             89.9900               0.0  \n",
      "5908776             11.5705               0.0  \n",
      "5908777              8.3200               0.0  \n",
      "\n",
      "[265567 rows x 4 columns]\n"
     ]
    },
    {
     "data": {
      "text/html": [
       "<div>\n",
       "<style scoped>\n",
       "    .dataframe tbody tr th:only-of-type {\n",
       "        vertical-align: middle;\n",
       "    }\n",
       "\n",
       "    .dataframe tbody tr th {\n",
       "        vertical-align: top;\n",
       "    }\n",
       "\n",
       "    .dataframe thead th {\n",
       "        text-align: right;\n",
       "    }\n",
       "</style>\n",
       "<table border=\"1\" class=\"dataframe\">\n",
       "  <thead>\n",
       "    <tr style=\"text-align: right;\">\n",
       "      <th>country</th>\n",
       "      <th>Canada</th>\n",
       "      <th>India</th>\n",
       "      <th>UK</th>\n",
       "      <th>US</th>\n",
       "    </tr>\n",
       "    <tr>\n",
       "      <th>title</th>\n",
       "      <th></th>\n",
       "      <th></th>\n",
       "      <th></th>\n",
       "      <th></th>\n",
       "    </tr>\n",
       "  </thead>\n",
       "  <tbody>\n",
       "    <tr>\n",
       "      <th>Cool Wall Stickers for Schools, Kids Rooms, Nurseries Quote Small Army Men Bucket of Soldiers Home Decoration Vinyl Decal and Decor</th>\n",
       "      <td>17.5346</td>\n",
       "      <td>NaN</td>\n",
       "      <td>NaN</td>\n",
       "      <td>12.99</td>\n",
       "    </tr>\n",
       "    <tr>\n",
       "      <th>L-Track Double Stud Tie Down Fitting with O Ring | Used with L Track Rail for Truck Bed,Trailer Cargo Control,Pickup,RV,ATV,Bearing 5000 LBS Heavy Duty Steel (Pack of 6 Black)</th>\n",
       "      <td>27.7327</td>\n",
       "      <td>NaN</td>\n",
       "      <td>NaN</td>\n",
       "      <td>27.99</td>\n",
       "    </tr>\n",
       "    <tr>\n",
       "      <th>\"Basic\" Curved Stick Front/Back Linear Drop Earrings</th>\n",
       "      <td>15.4030</td>\n",
       "      <td>NaN</td>\n",
       "      <td>NaN</td>\n",
       "      <td>13.63</td>\n",
       "    </tr>\n",
       "    <tr>\n",
       "      <th>\"Basic\" Silver Framed Heart Logo Pendant Necklace, 18\" + 2\" Extender</th>\n",
       "      <td>15.4030</td>\n",
       "      <td>NaN</td>\n",
       "      <td>NaN</td>\n",
       "      <td>14.47</td>\n",
       "    </tr>\n",
       "    <tr>\n",
       "      <th>\"Coffee\" kitchen wall stickers, Tea Cup wall art, Kitchen stickers, Restaurant wall decal, Removable Vinyl decals,</th>\n",
       "      <td>9.4900</td>\n",
       "      <td>NaN</td>\n",
       "      <td>0.0</td>\n",
       "      <td>NaN</td>\n",
       "    </tr>\n",
       "    <tr>\n",
       "      <th>...</th>\n",
       "      <td>...</td>\n",
       "      <td>...</td>\n",
       "      <td>...</td>\n",
       "      <td>...</td>\n",
       "    </tr>\n",
       "    <tr>\n",
       "      <th>𝟐𝟎𝟐𝟑 𝐔𝐩𝐠𝐫𝐚𝐝𝐞𝐝 Apple Watch Charger,2-in-1 USB C Charger for iWatch &amp; iPhone,3FT Fast Charging Cable with 20W Fast Wall Charger for Apple Watch Series 8/7/6/5/SE &amp; iPhone14/13/12/AirPods</th>\n",
       "      <td>NaN</td>\n",
       "      <td>NaN</td>\n",
       "      <td>0.0</td>\n",
       "      <td>17.99</td>\n",
       "    </tr>\n",
       "    <tr>\n",
       "      <th>𝟐𝟎𝟐𝟑 𝐔𝐩𝐠𝐫𝐚𝐝𝐞𝐝 Apple Watch Charger,2-in-1 USB C Charger for iWatch &amp; iPhone,6FT Fast Charging Cable with 20W Fast Wall Charger for Apple Watch Series 8/7/6/5/SE &amp; iPhone14/13/12/AirPods</th>\n",
       "      <td>NaN</td>\n",
       "      <td>NaN</td>\n",
       "      <td>0.0</td>\n",
       "      <td>17.99</td>\n",
       "    </tr>\n",
       "    <tr>\n",
       "      <th>𝟮𝟬𝟮𝟮 𝙉𝙚𝙬 LAUNCH OBD2 Extension Cable Full 16Pin Male to Female OBDII Extend Cable for Car OBD Diagnostic Extender Cord Connector Reinforced Nylon Material (36CM/1.2FT)</th>\n",
       "      <td>19.5786</td>\n",
       "      <td>NaN</td>\n",
       "      <td>NaN</td>\n",
       "      <td>11.99</td>\n",
       "    </tr>\n",
       "    <tr>\n",
       "      <th>𝟮𝟬𝟮𝟯 𝙐𝙥𝙜𝙧𝙖𝙙𝙚𝙙 3316348.900 RV Fridge Circuit Board, Compatible with Dometic DM2652 RM2652 RM2852 etc Refrigerator/Fridge. Replace for dometic 3316348.000 Control Board,3 Years Warranty</th>\n",
       "      <td>102.5139</td>\n",
       "      <td>NaN</td>\n",
       "      <td>NaN</td>\n",
       "      <td>89.99</td>\n",
       "    </tr>\n",
       "    <tr>\n",
       "      <th>📬 United States Postal Mail Truck USPS 1987 Grumman LLV 1:36 Scale Die Cast Metal 5 Inch Model Toy Truck</th>\n",
       "      <td>11.5705</td>\n",
       "      <td>NaN</td>\n",
       "      <td>NaN</td>\n",
       "      <td>8.32</td>\n",
       "    </tr>\n",
       "  </tbody>\n",
       "</table>\n",
       "<p>130885 rows × 4 columns</p>\n",
       "</div>"
      ],
      "text/plain": [
       "country                                               Canada  India   UK  \\\n",
       "title                                                                      \n",
       " Cool Wall Stickers for Schools, Kids Rooms, Nu...   17.5346    NaN  NaN   \n",
       " L-Track Double Stud Tie Down Fitting with O Ri...   27.7327    NaN  NaN   \n",
       "\"Basic\" Curved Stick Front/Back Linear Drop Ear...   15.4030    NaN  NaN   \n",
       "\"Basic\" Silver Framed Heart Logo Pendant Neckla...   15.4030    NaN  NaN   \n",
       "\"Coffee\" kitchen wall stickers, Tea Cup wall ar...    9.4900    NaN  0.0   \n",
       "...                                                      ...    ...  ...   \n",
       "𝟐𝟎𝟐𝟑 𝐔𝐩𝐠𝐫𝐚𝐝𝐞𝐝 Apple Watch Charger,2-in-1 USB C ...       NaN    NaN  0.0   \n",
       "𝟐𝟎𝟐𝟑 𝐔𝐩𝐠𝐫𝐚𝐝𝐞𝐝 Apple Watch Charger,2-in-1 USB C ...       NaN    NaN  0.0   \n",
       "𝟮𝟬𝟮𝟮 𝙉𝙚𝙬 LAUNCH OBD2 Extension Cable Full 16Pin...   19.5786    NaN  NaN   \n",
       "𝟮𝟬𝟮𝟯 𝙐𝙥𝙜𝙧𝙖𝙙𝙚𝙙 3316348.900 RV Fridge Circuit Boa...  102.5139    NaN  NaN   \n",
       "📬 United States Postal Mail Truck USPS 1987 Gru...   11.5705    NaN  NaN   \n",
       "\n",
       "country                                                US  \n",
       "title                                                      \n",
       " Cool Wall Stickers for Schools, Kids Rooms, Nu...  12.99  \n",
       " L-Track Double Stud Tie Down Fitting with O Ri...  27.99  \n",
       "\"Basic\" Curved Stick Front/Back Linear Drop Ear...  13.63  \n",
       "\"Basic\" Silver Framed Heart Logo Pendant Neckla...  14.47  \n",
       "\"Coffee\" kitchen wall stickers, Tea Cup wall ar...    NaN  \n",
       "...                                                   ...  \n",
       "𝟐𝟎𝟐𝟑 𝐔𝐩𝐠𝐫𝐚𝐝𝐞𝐝 Apple Watch Charger,2-in-1 USB C ...  17.99  \n",
       "𝟐𝟎𝟐𝟑 𝐔𝐩𝐠𝐫𝐚𝐝𝐞𝐝 Apple Watch Charger,2-in-1 USB C ...  17.99  \n",
       "𝟮𝟬𝟮𝟮 𝙉𝙚𝙬 LAUNCH OBD2 Extension Cable Full 16Pin...  11.99  \n",
       "𝟮𝟬𝟮𝟯 𝙐𝙥𝙜𝙧𝙖𝙙𝙚𝙙 3316348.900 RV Fridge Circuit Boa...  89.99  \n",
       "📬 United States Postal Mail Truck USPS 1987 Gru...   8.32  \n",
       "\n",
       "[130885 rows x 4 columns]"
      ]
     },
     "execution_count": 21,
     "metadata": {},
     "output_type": "execute_result"
    }
   ],
   "source": [
    "# Primero, agrupamos por 'title' y 'country' para verificar si hay productos con el mismo nombre en diferentes países\n",
    "grouped = df_all.groupby(['title', 'country']).agg({\n",
    "    'discount_price_usd': 'mean',\n",
    "    'actual_price_usd': 'mean',\n",
    "    'discount_price_usd': 'mean'\n",
    "}).reset_index()\n",
    "\n",
    "# Ahora, identificamos los productos que están en más de un país\n",
    "product_counts = grouped['title'].value_counts()\n",
    "repeated_products = product_counts[product_counts > 1].index\n",
    "\n",
    "# Filtrar el DataFrame para mantener solo los productos que se repiten en diferentes países\n",
    "repeated_df = grouped[grouped['title'].isin(repeated_products)]\n",
    "\n",
    "# Mostrar el DataFrame filtrado\n",
    "print(repeated_df)\n",
    "\n",
    "# Para una comparación detallada, podemos pivotar el DataFrame\n",
    "comparison_df = repeated_df.pivot(index='title', columns='country', values='discount_price_usd')\n",
    "\n",
    "# Mostrar el DataFrame comparativo\n",
    "comparison_df"
   ]
  },
  {
   "cell_type": "markdown",
   "id": "60511fed",
   "metadata": {},
   "source": [
    "## Conteo de cuantas veces aparece cada producto por país"
   ]
  },
  {
   "cell_type": "code",
   "execution_count": 22,
   "id": "86958c9d",
   "metadata": {},
   "outputs": [
    {
     "name": "stdout",
     "output_type": "stream",
     "text": [
      "                                                     title country  count  \\\n",
      "0         10\" Faucet Hole Cover Deck Plate, Escutcheon ...  Canada      1   \n",
      "1                  1990 Proof Like / Uncirculated Coin Set  Canada      1   \n",
      "2         1Cap 1Case 1Side 3 in 1 For -IQOS 3.0 Magneti...  Canada      1   \n",
      "3         2 Pack Reflective Police Patch Hook & Loop, D...  Canada      1   \n",
      "4         2Pcs Silicone Eyeliner Stencil, Multifunction...  Canada      1   \n",
      "...                                                    ...     ...    ...   \n",
      "5908779  🚌 KiNSFUN 5\" Monster School Bus Die Cast Metal...      US      1   \n",
      "5908780  🛀 Aksoy Epsom Salt 1KG || Epsom Bath Salts || ...      UK      1   \n",
      "5908781  🛦 United States Air Force SR-71A Blackbird 8\" ...      US      1   \n",
      "5908782  🟤 Aksoy Brown Whole Flaxseed (Linseed) 650gr |...      UK      1   \n",
      "5908783  🥧 RLS 11pcs Wooden Toy Microwave oven with pre...      UK      1   \n",
      "\n",
      "         discount_price_usd  actual_price_usd  \n",
      "0                    8.0227            0.0000  \n",
      "1                    0.0000            0.0000  \n",
      "2                   14.5854            0.0000  \n",
      "3                   11.6727            0.0000  \n",
      "4                    9.4827            0.0000  \n",
      "...                     ...               ...  \n",
      "5908779              5.7000            9.9600  \n",
      "5908780              0.0000            7.0272  \n",
      "5908781              0.0000            0.0000  \n",
      "5908782              0.0000            5.1072  \n",
      "5908783              0.0000           31.9872  \n",
      "\n",
      "[5908784 rows x 5 columns]\n"
     ]
    }
   ],
   "source": [
    "# Agrupar por 'title' y 'country' para contar las repeticiones y calcular el precio promedio\n",
    "grouped = df_all.groupby(['title', 'country']).agg({\n",
    "    'title': 'count',\n",
    "    'discount_price_usd': 'mean',\n",
    "    'actual_price_usd': 'mean'\n",
    "}).rename(columns={'title': 'count'}).reset_index()\n",
    "\n",
    "# Mostrar el DataFrame resultante\n",
    "print(grouped)\n"
   ]
  },
  {
   "cell_type": "markdown",
   "id": "c1fa37ed",
   "metadata": {},
   "source": [
    "## Conteo de productos que se repiten en mas de una ocación por país"
   ]
  },
  {
   "cell_type": "code",
   "execution_count": 23,
   "id": "6af3ca91",
   "metadata": {
    "scrolled": false
   },
   "outputs": [
    {
     "name": "stdout",
     "output_type": "stream",
     "text": [
      "  country  discount_price_usd  actual_price_usd\n",
      "0  Canada          160.296435          3.553047\n",
      "1   India           26.755804         49.360213\n",
      "2      UK            0.000000        227.409561\n",
      "3      US           39.762606         13.643232\n"
     ]
    }
   ],
   "source": [
    "# Agrupar por 'title' y 'country' para calcular el promedio de los precios\n",
    "grouped = df_all.groupby(['title', 'country']).agg({\n",
    "    'discount_price_usd': 'mean',\n",
    "    'actual_price_usd': 'mean'\n",
    "}).reset_index()\n",
    "\n",
    "# Contar cuántas veces se repite cada producto por país\n",
    "product_counts = df_all.groupby(['title', 'country']).size().reset_index(name='count')\n",
    "\n",
    "# Filtrar los productos que se repiten más de una vez en cada país\n",
    "repeated_products = product_counts[product_counts['count'] > 1]\n",
    "\n",
    "# Unir el DataFrame filtrado con el DataFrame de precios promedio\n",
    "repeated_products_with_prices = pd.merge(repeated_products, grouped, on=['title', 'country'])\n",
    "\n",
    "# Agrupar por 'country' para obtener el promedio de los precios de los productos repetidos en cada país\n",
    "average_prices_by_country = repeated_products_with_prices.groupby('country').agg({\n",
    "    'discount_price_usd': 'mean',\n",
    "    'actual_price_usd': 'mean'\n",
    "}).reset_index()\n",
    "\n",
    "# Mostrar el DataFrame resultante\n",
    "print(average_prices_by_country)\n"
   ]
  },
  {
   "cell_type": "markdown",
   "id": "412fa385",
   "metadata": {},
   "source": [
    "# Graficos "
   ]
  },
  {
   "cell_type": "code",
   "execution_count": 24,
   "id": "313fa93c",
   "metadata": {
    "scrolled": false
   },
   "outputs": [
    {
     "data": {
      "image/png": "[encoded data removed]",
      "text/plain": [
       "<Figure size 1400x700 with 1 Axes>"
      ]
     },
     "metadata": {},
     "output_type": "display_data"
    },
    {
     "data": {
      "image/png": "[encoded data removed]",
      "text/plain": [
       "<Figure size 1400x700 with 1 Axes>"
      ]
     },
     "metadata": {},
     "output_type": "display_data"
    },
    {
     "data": {
      "image/png": "[encoded data removed]",
      "text/plain": [
       "<Figure size 1400x700 with 1 Axes>"
      ]
     },
     "metadata": {},
     "output_type": "display_data"
    }
   ],
   "source": [
    "# Me aseguro de que las columnas de precios están en float\n",
    "df_all['actual_price_usd'] = df_all['actual_price_usd'].astype(float)\n",
    "df_all['discount_price_usd'] = df_all['discount_price_usd'].astype(float)\n",
    "\n",
    "# Calcular el porcentaje de descuento\n",
    "df_all['discount_percentage'] = np.where(\n",
    "    df_all['actual_price_usd'] != 0,\n",
    "    100 * (df_all['actual_price_usd'] - df_all['discount_price_usd']) / df_all['actual_price_usd'],\n",
    "    0\n",
    ")\n",
    "\n",
    "# Agrupar por 'country' para obtener el promedio de los precios y el porcentaje de descuento\n",
    "average_prices_by_country = df_all.groupby('country').agg({\n",
    "    'discount_price_usd': 'mean',\n",
    "    'actual_price_usd': 'mean',\n",
    "    'discount_percentage': 'mean'\n",
    "}).reset_index()\n",
    "\n",
    "# Configurar el estilo de los gráficos\n",
    "sns.set(style=\"whitegrid\")\n",
    "\n",
    "# Crear un gráfico de barras para 'actual_price_usd'\n",
    "plt.figure(figsize=(14, 7))\n",
    "sns.barplot(x='country', y='actual_price_usd', data=average_prices_by_country, palette='viridis')\n",
    "plt.title('Promedio de los Precios por País')\n",
    "plt.ylabel('Promedio del Precio Actual (USD)')\n",
    "plt.xlabel('País')\n",
    "plt.xticks(rotation=45)\n",
    "plt.show()\n",
    "\n",
    "# Crear un gráfico de barras para 'discount_price_usd'\n",
    "plt.figure(figsize=(14, 7))\n",
    "sns.barplot(x='country', y='discount_price_usd', data=average_prices_by_country, palette='viridis')\n",
    "plt.title('Promedio de los Precios con Descuentos por País')\n",
    "plt.ylabel('Promedio del Precio con Descuento (USD)')\n",
    "plt.xlabel('País')\n",
    "plt.xticks(rotation=45)\n",
    "plt.show()\n",
    "\n",
    "# Crear un gráfico de barras para 'discount_percentage'\n",
    "plt.figure(figsize=(14, 7))\n",
    "sns.barplot(x='country', y='discount_percentage', data=average_prices_by_country, palette='viridis')\n",
    "plt.title('Promedio de los  Descuentos por País')\n",
    "plt.ylabel('Promedio de Descuento (USD)')\n",
    "plt.xlabel('País')\n",
    "plt.xticks(rotation=45)\n",
    "plt.show()"
   ]
  },
  {
   "cell_type": "code",
   "execution_count": null,
   "id": "a0e3e3af",
   "metadata": {},
   "outputs": [],
   "source": []
  },
  {
   "cell_type": "code",
   "execution_count": null,
   "id": "74291ebf",
   "metadata": {},
   "outputs": [],
   "source": []
  }
 ],
 "metadata": {
  "kernelspec": {
   "display_name": "Python 3 (ipykernel)",
   "language": "python",
   "name": "python3"
  },
  "language_info": {
   "codemirror_mode": {
    "name": "ipython",
    "version": 3
   },
   "file_extension": ".py",
   "mimetype": "text/x-python",
   "name": "python",
   "nbconvert_exporter": "python",
   "pygments_lexer": "ipython3",
   "version": "3.9.13"
  },
  "toc": {
   "base_numbering": 1,
   "nav_menu": {},
   "number_sections": true,
   "sideBar": true,
   "skip_h1_title": false,
   "title_cell": "Table of Contents",
   "title_sidebar": "Contents",
   "toc_cell": false,
   "toc_position": {},
   "toc_section_display": true,
   "toc_window_display": false
  }
 },
 "nbformat": 4,
 "nbformat_minor": 5
}
