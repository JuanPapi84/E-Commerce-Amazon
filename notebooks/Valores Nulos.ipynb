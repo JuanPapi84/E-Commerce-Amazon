{
 "cells": [
  {
   "cell_type": "markdown",
   "metadata": {},
   "source": [
    "# Carga de Librerias"
   ]
  },
  {
   "cell_type": "code",
   "execution_count": 2,
   "metadata": {},
   "outputs": [],
   "source": [
    "import pandas as pd"
   ]
  },
  {
   "cell_type": "markdown",
   "metadata": {},
   "source": [
    "# Carga del DataFrame"
   ]
  },
  {
   "cell_type": "code",
   "execution_count": 3,
   "metadata": {},
   "outputs": [],
   "source": [
    "df = pd.read_csv('Amazon-Products.csv')"
   ]
  },
  {
   "cell_type": "markdown",
   "metadata": {},
   "source": [
    "# DataFrame"
   ]
  },
  {
   "cell_type": "code",
   "execution_count": 4,
   "metadata": {},
   "outputs": [
    {
     "data": {
      "text/html": [
       "<div>\n",
       "<style scoped>\n",
       "    .dataframe tbody tr th:only-of-type {\n",
       "        vertical-align: middle;\n",
       "    }\n",
       "\n",
       "    .dataframe tbody tr th {\n",
       "        vertical-align: top;\n",
       "    }\n",
       "\n",
       "    .dataframe thead th {\n",
       "        text-align: right;\n",
       "    }\n",
       "</style>\n",
       "<table border=\"1\" class=\"dataframe\">\n",
       "  <thead>\n",
       "    <tr style=\"text-align: right;\">\n",
       "      <th></th>\n",
       "      <th>Unnamed: 0</th>\n",
       "      <th>name</th>\n",
       "      <th>main_category</th>\n",
       "      <th>sub_category</th>\n",
       "      <th>image</th>\n",
       "      <th>link</th>\n",
       "      <th>ratings</th>\n",
       "      <th>no_of_ratings</th>\n",
       "      <th>discount_price</th>\n",
       "      <th>actual_price</th>\n",
       "    </tr>\n",
       "  </thead>\n",
       "  <tbody>\n",
       "    <tr>\n",
       "      <th>0</th>\n",
       "      <td>0</td>\n",
       "      <td>Lloyd 1.5 Ton 3 Star Inverter Split Ac (5 In 1...</td>\n",
       "      <td>appliances</td>\n",
       "      <td>Air Conditioners</td>\n",
       "      <td>https://m.media-amazon.com/images/I/31UISB90sY...</td>\n",
       "      <td>https://www.amazon.in/Lloyd-Inverter-Convertib...</td>\n",
       "      <td>4.2</td>\n",
       "      <td>2,255</td>\n",
       "      <td>₹32,999</td>\n",
       "      <td>₹58,990</td>\n",
       "    </tr>\n",
       "    <tr>\n",
       "      <th>1</th>\n",
       "      <td>1</td>\n",
       "      <td>LG 1.5 Ton 5 Star AI DUAL Inverter Split AC (C...</td>\n",
       "      <td>appliances</td>\n",
       "      <td>Air Conditioners</td>\n",
       "      <td>https://m.media-amazon.com/images/I/51JFb7FctD...</td>\n",
       "      <td>https://www.amazon.in/LG-Convertible-Anti-Viru...</td>\n",
       "      <td>4.2</td>\n",
       "      <td>2,948</td>\n",
       "      <td>₹46,490</td>\n",
       "      <td>₹75,990</td>\n",
       "    </tr>\n",
       "    <tr>\n",
       "      <th>2</th>\n",
       "      <td>2</td>\n",
       "      <td>LG 1 Ton 4 Star Ai Dual Inverter Split Ac (Cop...</td>\n",
       "      <td>appliances</td>\n",
       "      <td>Air Conditioners</td>\n",
       "      <td>https://m.media-amazon.com/images/I/51JFb7FctD...</td>\n",
       "      <td>https://www.amazon.in/LG-Inverter-Convertible-...</td>\n",
       "      <td>4.2</td>\n",
       "      <td>1,206</td>\n",
       "      <td>₹34,490</td>\n",
       "      <td>₹61,990</td>\n",
       "    </tr>\n",
       "    <tr>\n",
       "      <th>3</th>\n",
       "      <td>3</td>\n",
       "      <td>LG 1.5 Ton 3 Star AI DUAL Inverter Split AC (C...</td>\n",
       "      <td>appliances</td>\n",
       "      <td>Air Conditioners</td>\n",
       "      <td>https://m.media-amazon.com/images/I/51JFb7FctD...</td>\n",
       "      <td>https://www.amazon.in/LG-Convertible-Anti-Viru...</td>\n",
       "      <td>4.0</td>\n",
       "      <td>69</td>\n",
       "      <td>₹37,990</td>\n",
       "      <td>₹68,990</td>\n",
       "    </tr>\n",
       "    <tr>\n",
       "      <th>4</th>\n",
       "      <td>4</td>\n",
       "      <td>Carrier 1.5 Ton 3 Star Inverter Split AC (Copp...</td>\n",
       "      <td>appliances</td>\n",
       "      <td>Air Conditioners</td>\n",
       "      <td>https://m.media-amazon.com/images/I/41lrtqXPiW...</td>\n",
       "      <td>https://www.amazon.in/Carrier-Inverter-Split-C...</td>\n",
       "      <td>4.1</td>\n",
       "      <td>630</td>\n",
       "      <td>₹34,490</td>\n",
       "      <td>₹67,790</td>\n",
       "    </tr>\n",
       "    <tr>\n",
       "      <th>...</th>\n",
       "      <td>...</td>\n",
       "      <td>...</td>\n",
       "      <td>...</td>\n",
       "      <td>...</td>\n",
       "      <td>...</td>\n",
       "      <td>...</td>\n",
       "      <td>...</td>\n",
       "      <td>...</td>\n",
       "      <td>...</td>\n",
       "      <td>...</td>\n",
       "    </tr>\n",
       "    <tr>\n",
       "      <th>551580</th>\n",
       "      <td>1099</td>\n",
       "      <td>Adidas Regular Fit Men's Track Tops</td>\n",
       "      <td>sports &amp; fitness</td>\n",
       "      <td>Yoga</td>\n",
       "      <td>https://m.media-amazon.com/images/I/71tHAR9pIY...</td>\n",
       "      <td>https://www.amazon.in/Adidas-Regular-Mens-Trac...</td>\n",
       "      <td>3.2</td>\n",
       "      <td>9</td>\n",
       "      <td>₹3,449</td>\n",
       "      <td>₹4,599</td>\n",
       "    </tr>\n",
       "    <tr>\n",
       "      <th>551581</th>\n",
       "      <td>1100</td>\n",
       "      <td>Redwolf Noice Toit Smort - Hoodie (Black)</td>\n",
       "      <td>sports &amp; fitness</td>\n",
       "      <td>Yoga</td>\n",
       "      <td>https://m.media-amazon.com/images/I/41pKrMZ5lQ...</td>\n",
       "      <td>https://www.amazon.in/Redwolf-Noice-Smort-Cott...</td>\n",
       "      <td>2.0</td>\n",
       "      <td>2</td>\n",
       "      <td>₹1,199</td>\n",
       "      <td>₹1,999</td>\n",
       "    </tr>\n",
       "    <tr>\n",
       "      <th>551582</th>\n",
       "      <td>1101</td>\n",
       "      <td>Redwolf Schrute Farms B&amp;B - Hoodie (Navy Blue)</td>\n",
       "      <td>sports &amp; fitness</td>\n",
       "      <td>Yoga</td>\n",
       "      <td>https://m.media-amazon.com/images/I/41n9u+zNSc...</td>\n",
       "      <td>https://www.amazon.in/Redwolf-Schrute-Farms-Ho...</td>\n",
       "      <td>4.0</td>\n",
       "      <td>1</td>\n",
       "      <td>₹1,199</td>\n",
       "      <td>₹1,999</td>\n",
       "    </tr>\n",
       "    <tr>\n",
       "      <th>551583</th>\n",
       "      <td>1102</td>\n",
       "      <td>Puma Men Shorts</td>\n",
       "      <td>sports &amp; fitness</td>\n",
       "      <td>Yoga</td>\n",
       "      <td>https://m.media-amazon.com/images/I/51LoWv5JDt...</td>\n",
       "      <td>https://www.amazon.in/Puma-Woven-Short-5208526...</td>\n",
       "      <td>4.4</td>\n",
       "      <td>37</td>\n",
       "      <td>NaN</td>\n",
       "      <td>NaN</td>\n",
       "    </tr>\n",
       "    <tr>\n",
       "      <th>551584</th>\n",
       "      <td>1103</td>\n",
       "      <td>Mothercare Printed Cotton Elastane Girls Infan...</td>\n",
       "      <td>sports &amp; fitness</td>\n",
       "      <td>Yoga</td>\n",
       "      <td>https://m.media-amazon.com/images/I/814X-sI3DB...</td>\n",
       "      <td>https://www.amazon.in/Mothercare-Carrot-Regula...</td>\n",
       "      <td>4.6</td>\n",
       "      <td>5</td>\n",
       "      <td>₹1,039</td>\n",
       "      <td>₹1,299</td>\n",
       "    </tr>\n",
       "  </tbody>\n",
       "</table>\n",
       "<p>551585 rows × 10 columns</p>\n",
       "</div>"
      ],
      "text/plain": [
       "        Unnamed: 0                                               name  \\\n",
       "0                0  Lloyd 1.5 Ton 3 Star Inverter Split Ac (5 In 1...   \n",
       "1                1  LG 1.5 Ton 5 Star AI DUAL Inverter Split AC (C...   \n",
       "2                2  LG 1 Ton 4 Star Ai Dual Inverter Split Ac (Cop...   \n",
       "3                3  LG 1.5 Ton 3 Star AI DUAL Inverter Split AC (C...   \n",
       "4                4  Carrier 1.5 Ton 3 Star Inverter Split AC (Copp...   \n",
       "...            ...                                                ...   \n",
       "551580        1099                Adidas Regular Fit Men's Track Tops   \n",
       "551581        1100          Redwolf Noice Toit Smort - Hoodie (Black)   \n",
       "551582        1101     Redwolf Schrute Farms B&B - Hoodie (Navy Blue)   \n",
       "551583        1102                                    Puma Men Shorts   \n",
       "551584        1103  Mothercare Printed Cotton Elastane Girls Infan...   \n",
       "\n",
       "           main_category      sub_category  \\\n",
       "0             appliances  Air Conditioners   \n",
       "1             appliances  Air Conditioners   \n",
       "2             appliances  Air Conditioners   \n",
       "3             appliances  Air Conditioners   \n",
       "4             appliances  Air Conditioners   \n",
       "...                  ...               ...   \n",
       "551580  sports & fitness              Yoga   \n",
       "551581  sports & fitness              Yoga   \n",
       "551582  sports & fitness              Yoga   \n",
       "551583  sports & fitness              Yoga   \n",
       "551584  sports & fitness              Yoga   \n",
       "\n",
       "                                                    image  \\\n",
       "0       https://m.media-amazon.com/images/I/31UISB90sY...   \n",
       "1       https://m.media-amazon.com/images/I/51JFb7FctD...   \n",
       "2       https://m.media-amazon.com/images/I/51JFb7FctD...   \n",
       "3       https://m.media-amazon.com/images/I/51JFb7FctD...   \n",
       "4       https://m.media-amazon.com/images/I/41lrtqXPiW...   \n",
       "...                                                   ...   \n",
       "551580  https://m.media-amazon.com/images/I/71tHAR9pIY...   \n",
       "551581  https://m.media-amazon.com/images/I/41pKrMZ5lQ...   \n",
       "551582  https://m.media-amazon.com/images/I/41n9u+zNSc...   \n",
       "551583  https://m.media-amazon.com/images/I/51LoWv5JDt...   \n",
       "551584  https://m.media-amazon.com/images/I/814X-sI3DB...   \n",
       "\n",
       "                                                     link ratings  \\\n",
       "0       https://www.amazon.in/Lloyd-Inverter-Convertib...     4.2   \n",
       "1       https://www.amazon.in/LG-Convertible-Anti-Viru...     4.2   \n",
       "2       https://www.amazon.in/LG-Inverter-Convertible-...     4.2   \n",
       "3       https://www.amazon.in/LG-Convertible-Anti-Viru...     4.0   \n",
       "4       https://www.amazon.in/Carrier-Inverter-Split-C...     4.1   \n",
       "...                                                   ...     ...   \n",
       "551580  https://www.amazon.in/Adidas-Regular-Mens-Trac...     3.2   \n",
       "551581  https://www.amazon.in/Redwolf-Noice-Smort-Cott...     2.0   \n",
       "551582  https://www.amazon.in/Redwolf-Schrute-Farms-Ho...     4.0   \n",
       "551583  https://www.amazon.in/Puma-Woven-Short-5208526...     4.4   \n",
       "551584  https://www.amazon.in/Mothercare-Carrot-Regula...     4.6   \n",
       "\n",
       "       no_of_ratings discount_price actual_price  \n",
       "0              2,255        ₹32,999      ₹58,990  \n",
       "1              2,948        ₹46,490      ₹75,990  \n",
       "2              1,206        ₹34,490      ₹61,990  \n",
       "3                 69        ₹37,990      ₹68,990  \n",
       "4                630        ₹34,490      ₹67,790  \n",
       "...              ...            ...          ...  \n",
       "551580             9         ₹3,449       ₹4,599  \n",
       "551581             2         ₹1,199       ₹1,999  \n",
       "551582             1         ₹1,199       ₹1,999  \n",
       "551583            37            NaN          NaN  \n",
       "551584             5         ₹1,039       ₹1,299  \n",
       "\n",
       "[551585 rows x 10 columns]"
      ]
     },
     "execution_count": 4,
     "metadata": {},
     "output_type": "execute_result"
    }
   ],
   "source": [
    "df"
   ]
  },
  {
   "cell_type": "markdown",
   "metadata": {},
   "source": [
    "Vemos que el DataFrame cuenta con mas de 500.000 datos, hay 10 columnas de las cuales la primera se llama Unnamed, pero es el indice, las otras 9 cuentan con nombres de los productos, categorias, subcategorias, ranking, cantidad de veces que se califico, imagen del producto, link del producto, descuento, precio.\n",
    "\n",
    "Vamos a renombrar primero la columna `Unnamed`como `index`"
   ]
  },
  {
   "cell_type": "code",
   "execution_count": 5,
   "metadata": {},
   "outputs": [],
   "source": [
    "df = df.rename(columns={\"Unnamed: 0\": \"index\"})"
   ]
  },
  {
   "cell_type": "markdown",
   "metadata": {},
   "source": [
    "## Nulos"
   ]
  },
  {
   "cell_type": "markdown",
   "metadata": {},
   "source": [
    "Ahora que ya se modifico el nombre de la columna veamos si en el dataframe cuenta con valores nulos"
   ]
  },
  {
   "cell_type": "code",
   "execution_count": 6,
   "metadata": {},
   "outputs": [
    {
     "name": "stdout",
     "output_type": "stream",
     "text": [
      "<class 'pandas.core.frame.DataFrame'>\n",
      "RangeIndex: 551585 entries, 0 to 551584\n",
      "Data columns (total 10 columns):\n",
      " #   Column          Non-Null Count   Dtype \n",
      "---  ------          --------------   ----- \n",
      " 0   index           551585 non-null  int64 \n",
      " 1   name            551585 non-null  object\n",
      " 2   main_category   551585 non-null  object\n",
      " 3   sub_category    551585 non-null  object\n",
      " 4   image           551585 non-null  object\n",
      " 5   link            551585 non-null  object\n",
      " 6   ratings         375791 non-null  object\n",
      " 7   no_of_ratings   375791 non-null  object\n",
      " 8   discount_price  490422 non-null  object\n",
      " 9   actual_price    533772 non-null  object\n",
      "dtypes: int64(1), object(9)\n",
      "memory usage: 42.1+ MB\n"
     ]
    }
   ],
   "source": [
    "df.info()"
   ]
  },
  {
   "cell_type": "markdown",
   "metadata": {},
   "source": [
    "### Ratings"
   ]
  },
  {
   "cell_type": "markdown",
   "metadata": {},
   "source": [
    "Vemos que las columnas con `NaN` son `ratings, no_of_ratings, discount_price y actual_price`, vamos a rellenar cada una de ellas"
   ]
  },
  {
   "cell_type": "code",
   "execution_count": 7,
   "metadata": {},
   "outputs": [
    {
     "data": {
      "text/plain": [
       "array(['4.2', '4.0', '4.1', '4.3', '3.9', '3.8', '3.5', nan, '4.6', '3.3',\n",
       "       '3.4', '3.7', '2.9', '5.0', '4.4', '3.6', '2.7', '4.5', '3.0',\n",
       "       '3.1', '3.2', '4.8', '4.7', '2.5', '1.0', '2.6', '2.8', '2.3',\n",
       "       '1.7', 'Get', '1.8', '2.4', '4.9', '2.2', '1.6', '1.9', '2.0',\n",
       "       '1.4', '2.1', 'FREE', '1.2', '1.3', '1.5', '₹68.99', '₹65', '1.1',\n",
       "       '₹70', '₹100', '₹99', '₹2.99'], dtype=object)"
      ]
     },
     "execution_count": 7,
     "metadata": {},
     "output_type": "execute_result"
    }
   ],
   "source": [
    "df['ratings'].unique()"
   ]
  },
  {
   "cell_type": "markdown",
   "metadata": {},
   "source": [
    "Hay valores nulos (`NaN`), al igual que columnas con palabras, como `Get y FREE` y otras con precios en vez del valor del raiting, esto se debe a que la columna posee un `Dtype`de `object`, cuando deberia ser un número flotante, al cambiar del `dtype` a `float` a los valores que no son numericos los establece como `NaN` lo que nos ahorra el paso de tener que transformalos como nulos, la otra ventaja es que al ser valores flotantes se puede realizar opercaciones estadisticas y matematicas sobre ella."
   ]
  },
  {
   "cell_type": "code",
   "execution_count": 8,
   "metadata": {},
   "outputs": [],
   "source": [
    "df['ratings'] = pd.to_numeric(df['ratings'], errors='coerce')"
   ]
  },
  {
   "cell_type": "code",
   "execution_count": 9,
   "metadata": {},
   "outputs": [
    {
     "data": {
      "text/plain": [
       "count    369558.000000\n",
       "mean          3.832311\n",
       "std           0.756102\n",
       "min           1.000000\n",
       "25%           3.500000\n",
       "50%           3.900000\n",
       "75%           4.300000\n",
       "max           5.000000\n",
       "Name: ratings, dtype: float64"
      ]
     },
     "execution_count": 9,
     "metadata": {},
     "output_type": "execute_result"
    }
   ],
   "source": [
    "df['ratings'].describe()"
   ]
  },
  {
   "cell_type": "code",
   "execution_count": 10,
   "metadata": {},
   "outputs": [
    {
     "data": {
      "text/plain": [
       "array([4.2, 4. , 4.1, 4.3, 3.9, 3.8, 3.5, nan, 4.6, 3.3, 3.4, 3.7, 2.9,\n",
       "       5. , 4.4, 3.6, 2.7, 4.5, 3. , 3.1, 3.2, 4.8, 4.7, 2.5, 1. , 2.6,\n",
       "       2.8, 2.3, 1.7, 1.8, 2.4, 4.9, 2.2, 1.6, 1.9, 2. , 1.4, 2.1, 1.2,\n",
       "       1.3, 1.5, 1.1])"
      ]
     },
     "execution_count": 10,
     "metadata": {},
     "output_type": "execute_result"
    }
   ],
   "source": [
    "df['ratings'].unique()"
   ]
  },
  {
   "cell_type": "markdown",
   "metadata": {},
   "source": [
    "Relleno los valores nulos con la mediana ya que es casi lo mismo 3.83 que 3.9 y de esta forma nos evitamos tener varios números despues de la coma"
   ]
  },
  {
   "cell_type": "code",
   "execution_count": 11,
   "metadata": {},
   "outputs": [
    {
     "data": {
      "text/plain": [
       "array([4.2, 4. , 4.1, 4.3, 3.9, 3.8, 3.5, 4.6, 3.3, 3.4, 3.7, 2.9, 5. ,\n",
       "       4.4, 3.6, 2.7, 4.5, 3. , 3.1, 3.2, 4.8, 4.7, 2.5, 1. , 2.6, 2.8,\n",
       "       2.3, 1.7, 1.8, 2.4, 4.9, 2.2, 1.6, 1.9, 2. , 1.4, 2.1, 1.2, 1.3,\n",
       "       1.5, 1.1])"
      ]
     },
     "execution_count": 11,
     "metadata": {},
     "output_type": "execute_result"
    }
   ],
   "source": [
    "mediana_ratings = df['ratings'].median()\n",
    "df['ratings'] = df['ratings'].fillna(mediana_ratings)\n",
    "df['ratings'].unique()"
   ]
  },
  {
   "cell_type": "markdown",
   "metadata": {},
   "source": [
    "### No_of_ratings"
   ]
  },
  {
   "cell_type": "code",
   "execution_count": 12,
   "metadata": {},
   "outputs": [
    {
     "data": {
      "text/plain": [
       "array(['2,255', '2,948', '1,206', ..., '3,329', '7,141', '4,406'],\n",
       "      dtype=object)"
      ]
     },
     "execution_count": 12,
     "metadata": {},
     "output_type": "execute_result"
    }
   ],
   "source": [
    "df['no_of_ratings'].unique()"
   ]
  },
  {
   "cell_type": "markdown",
   "metadata": {},
   "source": [
    "Filtro el DataFrame para obtener solo las filas donde 'no_of_ratings' contiene letras"
   ]
  },
  {
   "cell_type": "code",
   "execution_count": 13,
   "metadata": {},
   "outputs": [
    {
     "data": {
      "text/html": [
       "<div>\n",
       "<style scoped>\n",
       "    .dataframe tbody tr th:only-of-type {\n",
       "        vertical-align: middle;\n",
       "    }\n",
       "\n",
       "    .dataframe tbody tr th {\n",
       "        vertical-align: top;\n",
       "    }\n",
       "\n",
       "    .dataframe thead th {\n",
       "        text-align: right;\n",
       "    }\n",
       "</style>\n",
       "<table border=\"1\" class=\"dataframe\">\n",
       "  <thead>\n",
       "    <tr style=\"text-align: right;\">\n",
       "      <th></th>\n",
       "      <th>index</th>\n",
       "      <th>name</th>\n",
       "      <th>main_category</th>\n",
       "      <th>sub_category</th>\n",
       "      <th>image</th>\n",
       "      <th>link</th>\n",
       "      <th>ratings</th>\n",
       "      <th>no_of_ratings</th>\n",
       "      <th>discount_price</th>\n",
       "      <th>actual_price</th>\n",
       "    </tr>\n",
       "  </thead>\n",
       "  <tbody>\n",
       "    <tr>\n",
       "      <th>437</th>\n",
       "      <td>437</td>\n",
       "      <td>Daikin 1.8 Ton 3 Star Inverter Split Ac (Coppe...</td>\n",
       "      <td>appliances</td>\n",
       "      <td>Air Conditioners</td>\n",
       "      <td>https://m.media-amazon.com/images/I/51hn7NHS3T...</td>\n",
       "      <td>https://www.amazon.in/Daikin-Inverter-Copper-F...</td>\n",
       "      <td>3.9</td>\n",
       "      <td>Only 2 left in stock.</td>\n",
       "      <td>₹59,979</td>\n",
       "      <td>₹72,900</td>\n",
       "    </tr>\n",
       "    <tr>\n",
       "      <th>473</th>\n",
       "      <td>473</td>\n",
       "      <td>Master Electronic provides Window AC 3-Star 1....</td>\n",
       "      <td>appliances</td>\n",
       "      <td>Air Conditioners</td>\n",
       "      <td>https://m.media-amazon.com/images/I/41B0LWORAr...</td>\n",
       "      <td>https://www.amazon.in/Master-Electronic-provid...</td>\n",
       "      <td>3.9</td>\n",
       "      <td>Only 1 left in stock.</td>\n",
       "      <td>₹36,999</td>\n",
       "      <td>₹39,999</td>\n",
       "    </tr>\n",
       "    <tr>\n",
       "      <th>474</th>\n",
       "      <td>474</td>\n",
       "      <td>Master Electronic provides 1.5 Ton 3 Star Dust...</td>\n",
       "      <td>appliances</td>\n",
       "      <td>Air Conditioners</td>\n",
       "      <td>https://m.media-amazon.com/images/I/61yVE5P7FU...</td>\n",
       "      <td>https://www.amazon.in/Master-Electronic-provid...</td>\n",
       "      <td>3.9</td>\n",
       "      <td>Only 1 left in stock.</td>\n",
       "      <td>₹36,999</td>\n",
       "      <td>₹39,666</td>\n",
       "    </tr>\n",
       "    <tr>\n",
       "      <th>475</th>\n",
       "      <td>475</td>\n",
       "      <td>Master Electronics Provides 1 Ton 3 Star Inver...</td>\n",
       "      <td>appliances</td>\n",
       "      <td>Air Conditioners</td>\n",
       "      <td>https://m.media-amazon.com/images/I/11mMBc5fl2...</td>\n",
       "      <td>https://www.amazon.in/Master-Electronics-Provi...</td>\n",
       "      <td>3.9</td>\n",
       "      <td>Only 1 left in stock.</td>\n",
       "      <td>₹46,999</td>\n",
       "      <td>₹49,666</td>\n",
       "    </tr>\n",
       "    <tr>\n",
       "      <th>488</th>\n",
       "      <td>488</td>\n",
       "      <td>1.5 Ton 5 Star Inverter Split AC, White</td>\n",
       "      <td>appliances</td>\n",
       "      <td>Air Conditioners</td>\n",
       "      <td>https://m.media-amazon.com/images/I/11au-UO4sB...</td>\n",
       "      <td>https://www.amazon.in/1-5-Star-Inverter-Split-...</td>\n",
       "      <td>3.9</td>\n",
       "      <td>Only 2 left in stock.</td>\n",
       "      <td>₹45,000</td>\n",
       "      <td>₹50,000</td>\n",
       "    </tr>\n",
       "  </tbody>\n",
       "</table>\n",
       "</div>"
      ],
      "text/plain": [
       "     index                                               name main_category  \\\n",
       "437    437  Daikin 1.8 Ton 3 Star Inverter Split Ac (Coppe...    appliances   \n",
       "473    473  Master Electronic provides Window AC 3-Star 1....    appliances   \n",
       "474    474  Master Electronic provides 1.5 Ton 3 Star Dust...    appliances   \n",
       "475    475  Master Electronics Provides 1 Ton 3 Star Inver...    appliances   \n",
       "488    488            1.5 Ton 5 Star Inverter Split AC, White    appliances   \n",
       "\n",
       "         sub_category                                              image  \\\n",
       "437  Air Conditioners  https://m.media-amazon.com/images/I/51hn7NHS3T...   \n",
       "473  Air Conditioners  https://m.media-amazon.com/images/I/41B0LWORAr...   \n",
       "474  Air Conditioners  https://m.media-amazon.com/images/I/61yVE5P7FU...   \n",
       "475  Air Conditioners  https://m.media-amazon.com/images/I/11mMBc5fl2...   \n",
       "488  Air Conditioners  https://m.media-amazon.com/images/I/11au-UO4sB...   \n",
       "\n",
       "                                                  link  ratings  \\\n",
       "437  https://www.amazon.in/Daikin-Inverter-Copper-F...      3.9   \n",
       "473  https://www.amazon.in/Master-Electronic-provid...      3.9   \n",
       "474  https://www.amazon.in/Master-Electronic-provid...      3.9   \n",
       "475  https://www.amazon.in/Master-Electronics-Provi...      3.9   \n",
       "488  https://www.amazon.in/1-5-Star-Inverter-Split-...      3.9   \n",
       "\n",
       "             no_of_ratings discount_price actual_price  \n",
       "437  Only 2 left in stock.        ₹59,979      ₹72,900  \n",
       "473  Only 1 left in stock.        ₹36,999      ₹39,999  \n",
       "474  Only 1 left in stock.        ₹36,999      ₹39,666  \n",
       "475  Only 1 left in stock.        ₹46,999      ₹49,666  \n",
       "488  Only 2 left in stock.        ₹45,000      ₹50,000  "
      ]
     },
     "execution_count": 13,
     "metadata": {},
     "output_type": "execute_result"
    }
   ],
   "source": [
    "filas_con_palabras = df[df['no_of_ratings'].str.contains(r'[A-Za-z]', na=False)]\n",
    "filas_con_palabras.head()"
   ]
  },
  {
   "cell_type": "markdown",
   "metadata": {},
   "source": [
    "Vemos que hay descripciones en algunas filas cuando deberian ser solo el número de veces que se califico dicho articulo, al cambiar el dtype de la columna se resolvera tambien este incombeniente\n"
   ]
  },
  {
   "cell_type": "code",
   "execution_count": 14,
   "metadata": {},
   "outputs": [
    {
     "data": {
      "text/plain": [
       "count    339029.000000\n",
       "mean         88.908810\n",
       "std         171.958778\n",
       "min           1.000000\n",
       "25%           4.000000\n",
       "50%          15.000000\n",
       "75%          79.000000\n",
       "max         999.000000\n",
       "Name: no_of_ratings, dtype: float64"
      ]
     },
     "execution_count": 14,
     "metadata": {},
     "output_type": "execute_result"
    }
   ],
   "source": [
    "df['no_of_ratings'] = pd.to_numeric(df['no_of_ratings'], errors='coerce')\n",
    "df['no_of_ratings'].describe()"
   ]
  },
  {
   "cell_type": "markdown",
   "metadata": {},
   "source": [
    "En este caso si voy a usar la med"
   ]
  },
  {
   "cell_type": "code",
   "execution_count": 15,
   "metadata": {},
   "outputs": [
    {
     "name": "stdout",
     "output_type": "stream",
     "text": [
      "<class 'pandas.core.series.Series'>\n",
      "RangeIndex: 551585 entries, 0 to 551584\n",
      "Series name: no_of_ratings\n",
      "Non-Null Count   Dtype  \n",
      "--------------   -----  \n",
      "551585 non-null  float64\n",
      "dtypes: float64(1)\n",
      "memory usage: 4.2 MB\n"
     ]
    }
   ],
   "source": [
    "media_no_ratings = df['no_of_ratings'].mean()\n",
    "df['no_of_ratings'] = df['no_of_ratings'].fillna(media_no_ratings)\n",
    "df['no_of_ratings'].info()"
   ]
  },
  {
   "cell_type": "markdown",
   "metadata": {},
   "source": [
    "### Discount_price"
   ]
  },
  {
   "cell_type": "markdown",
   "metadata": {},
   "source": [
    "Para esta columna a los valores nulos los voy a poner como 0 indicando que no tienen descuento"
   ]
  },
  {
   "cell_type": "code",
   "execution_count": 16,
   "metadata": {},
   "outputs": [
    {
     "name": "stdout",
     "output_type": "stream",
     "text": [
      "<class 'pandas.core.series.Series'>\n",
      "RangeIndex: 551585 entries, 0 to 551584\n",
      "Series name: discount_price\n",
      "Non-Null Count   Dtype \n",
      "--------------   ----- \n",
      "551585 non-null  object\n",
      "dtypes: object(1)\n",
      "memory usage: 4.2+ MB\n"
     ]
    }
   ],
   "source": [
    "df['discount_price'] = df['discount_price'].fillna(0)\n",
    "df['discount_price'].info()"
   ]
  },
  {
   "cell_type": "markdown",
   "metadata": {},
   "source": [
    "### Actual_price "
   ]
  },
  {
   "cell_type": "markdown",
   "metadata": {},
   "source": [
    "En esta parte voy a eliminar las filas con valores ausentes, porque no puedo saber cual era el valor del producto cuando se publico."
   ]
  },
  {
   "cell_type": "code",
   "execution_count": 17,
   "metadata": {},
   "outputs": [],
   "source": [
    "df = df.dropna(subset=['actual_price'])"
   ]
  },
  {
   "cell_type": "code",
   "execution_count": 18,
   "metadata": {},
   "outputs": [
    {
     "data": {
      "text/html": [
       "<div>\n",
       "<style scoped>\n",
       "    .dataframe tbody tr th:only-of-type {\n",
       "        vertical-align: middle;\n",
       "    }\n",
       "\n",
       "    .dataframe tbody tr th {\n",
       "        vertical-align: top;\n",
       "    }\n",
       "\n",
       "    .dataframe thead th {\n",
       "        text-align: right;\n",
       "    }\n",
       "</style>\n",
       "<table border=\"1\" class=\"dataframe\">\n",
       "  <thead>\n",
       "    <tr style=\"text-align: right;\">\n",
       "      <th></th>\n",
       "      <th>index</th>\n",
       "      <th>name</th>\n",
       "      <th>main_category</th>\n",
       "      <th>sub_category</th>\n",
       "      <th>image</th>\n",
       "      <th>link</th>\n",
       "      <th>ratings</th>\n",
       "      <th>no_of_ratings</th>\n",
       "      <th>discount_price</th>\n",
       "      <th>actual_price</th>\n",
       "    </tr>\n",
       "  </thead>\n",
       "  <tbody>\n",
       "    <tr>\n",
       "      <th>0</th>\n",
       "      <td>0</td>\n",
       "      <td>Lloyd 1.5 Ton 3 Star Inverter Split Ac (5 In 1...</td>\n",
       "      <td>appliances</td>\n",
       "      <td>Air Conditioners</td>\n",
       "      <td>https://m.media-amazon.com/images/I/31UISB90sY...</td>\n",
       "      <td>https://www.amazon.in/Lloyd-Inverter-Convertib...</td>\n",
       "      <td>4.2</td>\n",
       "      <td>88.90881</td>\n",
       "      <td>₹32,999</td>\n",
       "      <td>₹58,990</td>\n",
       "    </tr>\n",
       "    <tr>\n",
       "      <th>1</th>\n",
       "      <td>1</td>\n",
       "      <td>LG 1.5 Ton 5 Star AI DUAL Inverter Split AC (C...</td>\n",
       "      <td>appliances</td>\n",
       "      <td>Air Conditioners</td>\n",
       "      <td>https://m.media-amazon.com/images/I/51JFb7FctD...</td>\n",
       "      <td>https://www.amazon.in/LG-Convertible-Anti-Viru...</td>\n",
       "      <td>4.2</td>\n",
       "      <td>88.90881</td>\n",
       "      <td>₹46,490</td>\n",
       "      <td>₹75,990</td>\n",
       "    </tr>\n",
       "    <tr>\n",
       "      <th>2</th>\n",
       "      <td>2</td>\n",
       "      <td>LG 1 Ton 4 Star Ai Dual Inverter Split Ac (Cop...</td>\n",
       "      <td>appliances</td>\n",
       "      <td>Air Conditioners</td>\n",
       "      <td>https://m.media-amazon.com/images/I/51JFb7FctD...</td>\n",
       "      <td>https://www.amazon.in/LG-Inverter-Convertible-...</td>\n",
       "      <td>4.2</td>\n",
       "      <td>88.90881</td>\n",
       "      <td>₹34,490</td>\n",
       "      <td>₹61,990</td>\n",
       "    </tr>\n",
       "    <tr>\n",
       "      <th>3</th>\n",
       "      <td>3</td>\n",
       "      <td>LG 1.5 Ton 3 Star AI DUAL Inverter Split AC (C...</td>\n",
       "      <td>appliances</td>\n",
       "      <td>Air Conditioners</td>\n",
       "      <td>https://m.media-amazon.com/images/I/51JFb7FctD...</td>\n",
       "      <td>https://www.amazon.in/LG-Convertible-Anti-Viru...</td>\n",
       "      <td>4.0</td>\n",
       "      <td>69.00000</td>\n",
       "      <td>₹37,990</td>\n",
       "      <td>₹68,990</td>\n",
       "    </tr>\n",
       "    <tr>\n",
       "      <th>4</th>\n",
       "      <td>4</td>\n",
       "      <td>Carrier 1.5 Ton 3 Star Inverter Split AC (Copp...</td>\n",
       "      <td>appliances</td>\n",
       "      <td>Air Conditioners</td>\n",
       "      <td>https://m.media-amazon.com/images/I/41lrtqXPiW...</td>\n",
       "      <td>https://www.amazon.in/Carrier-Inverter-Split-C...</td>\n",
       "      <td>4.1</td>\n",
       "      <td>630.00000</td>\n",
       "      <td>₹34,490</td>\n",
       "      <td>₹67,790</td>\n",
       "    </tr>\n",
       "    <tr>\n",
       "      <th>...</th>\n",
       "      <td>...</td>\n",
       "      <td>...</td>\n",
       "      <td>...</td>\n",
       "      <td>...</td>\n",
       "      <td>...</td>\n",
       "      <td>...</td>\n",
       "      <td>...</td>\n",
       "      <td>...</td>\n",
       "      <td>...</td>\n",
       "      <td>...</td>\n",
       "    </tr>\n",
       "    <tr>\n",
       "      <th>551579</th>\n",
       "      <td>1098</td>\n",
       "      <td>BE SAVAGE Pink I Purple You Hoodie Suitable fo...</td>\n",
       "      <td>sports &amp; fitness</td>\n",
       "      <td>Yoga</td>\n",
       "      <td>https://m.media-amazon.com/images/I/61voQ68VuT...</td>\n",
       "      <td>https://www.amazon.in/Be-savage-Purple-Hoodie-...</td>\n",
       "      <td>4.6</td>\n",
       "      <td>6.00000</td>\n",
       "      <td>₹711</td>\n",
       "      <td>₹999</td>\n",
       "    </tr>\n",
       "    <tr>\n",
       "      <th>551580</th>\n",
       "      <td>1099</td>\n",
       "      <td>Adidas Regular Fit Men's Track Tops</td>\n",
       "      <td>sports &amp; fitness</td>\n",
       "      <td>Yoga</td>\n",
       "      <td>https://m.media-amazon.com/images/I/71tHAR9pIY...</td>\n",
       "      <td>https://www.amazon.in/Adidas-Regular-Mens-Trac...</td>\n",
       "      <td>3.2</td>\n",
       "      <td>9.00000</td>\n",
       "      <td>₹3,449</td>\n",
       "      <td>₹4,599</td>\n",
       "    </tr>\n",
       "    <tr>\n",
       "      <th>551581</th>\n",
       "      <td>1100</td>\n",
       "      <td>Redwolf Noice Toit Smort - Hoodie (Black)</td>\n",
       "      <td>sports &amp; fitness</td>\n",
       "      <td>Yoga</td>\n",
       "      <td>https://m.media-amazon.com/images/I/41pKrMZ5lQ...</td>\n",
       "      <td>https://www.amazon.in/Redwolf-Noice-Smort-Cott...</td>\n",
       "      <td>2.0</td>\n",
       "      <td>2.00000</td>\n",
       "      <td>₹1,199</td>\n",
       "      <td>₹1,999</td>\n",
       "    </tr>\n",
       "    <tr>\n",
       "      <th>551582</th>\n",
       "      <td>1101</td>\n",
       "      <td>Redwolf Schrute Farms B&amp;B - Hoodie (Navy Blue)</td>\n",
       "      <td>sports &amp; fitness</td>\n",
       "      <td>Yoga</td>\n",
       "      <td>https://m.media-amazon.com/images/I/41n9u+zNSc...</td>\n",
       "      <td>https://www.amazon.in/Redwolf-Schrute-Farms-Ho...</td>\n",
       "      <td>4.0</td>\n",
       "      <td>1.00000</td>\n",
       "      <td>₹1,199</td>\n",
       "      <td>₹1,999</td>\n",
       "    </tr>\n",
       "    <tr>\n",
       "      <th>551584</th>\n",
       "      <td>1103</td>\n",
       "      <td>Mothercare Printed Cotton Elastane Girls Infan...</td>\n",
       "      <td>sports &amp; fitness</td>\n",
       "      <td>Yoga</td>\n",
       "      <td>https://m.media-amazon.com/images/I/814X-sI3DB...</td>\n",
       "      <td>https://www.amazon.in/Mothercare-Carrot-Regula...</td>\n",
       "      <td>4.6</td>\n",
       "      <td>5.00000</td>\n",
       "      <td>₹1,039</td>\n",
       "      <td>₹1,299</td>\n",
       "    </tr>\n",
       "  </tbody>\n",
       "</table>\n",
       "<p>533772 rows × 10 columns</p>\n",
       "</div>"
      ],
      "text/plain": [
       "        index                                               name  \\\n",
       "0           0  Lloyd 1.5 Ton 3 Star Inverter Split Ac (5 In 1...   \n",
       "1           1  LG 1.5 Ton 5 Star AI DUAL Inverter Split AC (C...   \n",
       "2           2  LG 1 Ton 4 Star Ai Dual Inverter Split Ac (Cop...   \n",
       "3           3  LG 1.5 Ton 3 Star AI DUAL Inverter Split AC (C...   \n",
       "4           4  Carrier 1.5 Ton 3 Star Inverter Split AC (Copp...   \n",
       "...       ...                                                ...   \n",
       "551579   1098  BE SAVAGE Pink I Purple You Hoodie Suitable fo...   \n",
       "551580   1099                Adidas Regular Fit Men's Track Tops   \n",
       "551581   1100          Redwolf Noice Toit Smort - Hoodie (Black)   \n",
       "551582   1101     Redwolf Schrute Farms B&B - Hoodie (Navy Blue)   \n",
       "551584   1103  Mothercare Printed Cotton Elastane Girls Infan...   \n",
       "\n",
       "           main_category      sub_category  \\\n",
       "0             appliances  Air Conditioners   \n",
       "1             appliances  Air Conditioners   \n",
       "2             appliances  Air Conditioners   \n",
       "3             appliances  Air Conditioners   \n",
       "4             appliances  Air Conditioners   \n",
       "...                  ...               ...   \n",
       "551579  sports & fitness              Yoga   \n",
       "551580  sports & fitness              Yoga   \n",
       "551581  sports & fitness              Yoga   \n",
       "551582  sports & fitness              Yoga   \n",
       "551584  sports & fitness              Yoga   \n",
       "\n",
       "                                                    image  \\\n",
       "0       https://m.media-amazon.com/images/I/31UISB90sY...   \n",
       "1       https://m.media-amazon.com/images/I/51JFb7FctD...   \n",
       "2       https://m.media-amazon.com/images/I/51JFb7FctD...   \n",
       "3       https://m.media-amazon.com/images/I/51JFb7FctD...   \n",
       "4       https://m.media-amazon.com/images/I/41lrtqXPiW...   \n",
       "...                                                   ...   \n",
       "551579  https://m.media-amazon.com/images/I/61voQ68VuT...   \n",
       "551580  https://m.media-amazon.com/images/I/71tHAR9pIY...   \n",
       "551581  https://m.media-amazon.com/images/I/41pKrMZ5lQ...   \n",
       "551582  https://m.media-amazon.com/images/I/41n9u+zNSc...   \n",
       "551584  https://m.media-amazon.com/images/I/814X-sI3DB...   \n",
       "\n",
       "                                                     link  ratings  \\\n",
       "0       https://www.amazon.in/Lloyd-Inverter-Convertib...      4.2   \n",
       "1       https://www.amazon.in/LG-Convertible-Anti-Viru...      4.2   \n",
       "2       https://www.amazon.in/LG-Inverter-Convertible-...      4.2   \n",
       "3       https://www.amazon.in/LG-Convertible-Anti-Viru...      4.0   \n",
       "4       https://www.amazon.in/Carrier-Inverter-Split-C...      4.1   \n",
       "...                                                   ...      ...   \n",
       "551579  https://www.amazon.in/Be-savage-Purple-Hoodie-...      4.6   \n",
       "551580  https://www.amazon.in/Adidas-Regular-Mens-Trac...      3.2   \n",
       "551581  https://www.amazon.in/Redwolf-Noice-Smort-Cott...      2.0   \n",
       "551582  https://www.amazon.in/Redwolf-Schrute-Farms-Ho...      4.0   \n",
       "551584  https://www.amazon.in/Mothercare-Carrot-Regula...      4.6   \n",
       "\n",
       "        no_of_ratings discount_price actual_price  \n",
       "0            88.90881        ₹32,999      ₹58,990  \n",
       "1            88.90881        ₹46,490      ₹75,990  \n",
       "2            88.90881        ₹34,490      ₹61,990  \n",
       "3            69.00000        ₹37,990      ₹68,990  \n",
       "4           630.00000        ₹34,490      ₹67,790  \n",
       "...               ...            ...          ...  \n",
       "551579        6.00000           ₹711         ₹999  \n",
       "551580        9.00000         ₹3,449       ₹4,599  \n",
       "551581        2.00000         ₹1,199       ₹1,999  \n",
       "551582        1.00000         ₹1,199       ₹1,999  \n",
       "551584        5.00000         ₹1,039       ₹1,299  \n",
       "\n",
       "[533772 rows x 10 columns]"
      ]
     },
     "execution_count": 18,
     "metadata": {},
     "output_type": "execute_result"
    }
   ],
   "source": [
    "df"
   ]
  },
  {
   "cell_type": "markdown",
   "metadata": {},
   "source": [
    "Compruebo que todas las filas estan correctas y sin nulos"
   ]
  },
  {
   "cell_type": "code",
   "execution_count": 19,
   "metadata": {},
   "outputs": [
    {
     "name": "stdout",
     "output_type": "stream",
     "text": [
      "<class 'pandas.core.frame.DataFrame'>\n",
      "Index: 533772 entries, 0 to 551584\n",
      "Data columns (total 10 columns):\n",
      " #   Column          Non-Null Count   Dtype  \n",
      "---  ------          --------------   -----  \n",
      " 0   index           533772 non-null  int64  \n",
      " 1   name            533772 non-null  object \n",
      " 2   main_category   533772 non-null  object \n",
      " 3   sub_category    533772 non-null  object \n",
      " 4   image           533772 non-null  object \n",
      " 5   link            533772 non-null  object \n",
      " 6   ratings         533772 non-null  float64\n",
      " 7   no_of_ratings   533772 non-null  float64\n",
      " 8   discount_price  533772 non-null  object \n",
      " 9   actual_price    533772 non-null  object \n",
      "dtypes: float64(2), int64(1), object(7)\n",
      "memory usage: 44.8+ MB\n"
     ]
    }
   ],
   "source": [
    "df.info()"
   ]
  },
  {
   "cell_type": "code",
   "execution_count": null,
   "metadata": {},
   "outputs": [],
   "source": []
  },
  {
   "cell_type": "code",
   "execution_count": 21,
   "metadata": {},
   "outputs": [],
   "source": [
    "df.to_csv(\"Amazon.csv\", index=False)"
   ]
  }
 ],
 "metadata": {
  "kernelspec": {
   "display_name": "Python 3",
   "language": "python",
   "name": "python3"
  },
  "language_info": {
   "codemirror_mode": {
    "name": "ipython",
    "version": 3
   },
   "file_extension": ".py",
   "mimetype": "text/x-python",
   "name": "python",
   "nbconvert_exporter": "python",
   "pygments_lexer": "ipython3",
   "version": "3.10.9"
  }
 },
 "nbformat": 4,
 "nbformat_minor": 2
}
